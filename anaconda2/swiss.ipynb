{
 "cells": [
  {
   "cell_type": "code",
   "execution_count": 1,
   "metadata": {
    "collapsed": true
   },
   "outputs": [],
   "source": [
    "import numpy as np\n",
    "import pandas as pd"
   ]
  },
  {
   "cell_type": "code",
   "execution_count": 2,
   "metadata": {
    "collapsed": true
   },
   "outputs": [],
   "source": [
    "class player:\n",
    "    def __init__(self, id, sum, p, op):\n",
    "        self.id=id   #уникальный номер\n",
    "        self.sum=sum # результат тура\n",
    "        self.p=p\n",
    "        self.op=op  # массив id оппонентов\n",
    "# Основной класс"
   ]
  },
  {
   "cell_type": "code",
   "execution_count": 3,
   "metadata": {
    "collapsed": true
   },
   "outputs": [],
   "source": [
    "ar=[]\n",
    "# массив игроков\n",
    "def load(ar):\n",
    "    p_cur=player(len(ar), 0, 0, [0])\n",
    "    return p_cur\n",
    "#заполняем игроков, id  инкрементально"
   ]
  },
  {
   "cell_type": "code",
   "execution_count": 4,
   "metadata": {
    "collapsed": false
   },
   "outputs": [],
   "source": [
    "def filln(n):\n",
    "    for i in range(n):\n",
    "        a=load(ar)\n",
    "        ar.append(a)"
   ]
  },
  {
   "cell_type": "code",
   "execution_count": 5,
   "metadata": {
    "collapsed": true
   },
   "outputs": [],
   "source": [
    "n=12\n",
    "# число игроков в турнире"
   ]
  },
  {
   "cell_type": "code",
   "execution_count": 6,
   "metadata": {
    "collapsed": false
   },
   "outputs": [],
   "source": [
    "filln(n)"
   ]
  },
  {
   "cell_type": "code",
   "execution_count": 7,
   "metadata": {
    "collapsed": false
   },
   "outputs": [],
   "source": [
    "res = pd.read_csv(\"/home/roman/t2.csv\")\n",
    "\n",
    "#импортируем результаты первого тура (заменить на гуглдок?)"
   ]
  },
  {
   "cell_type": "code",
   "execution_count": 8,
   "metadata": {
    "collapsed": true
   },
   "outputs": [],
   "source": [
    "#собрали данные по играм и результатам в единый массив\n",
    "id=list(res['id1'].values)+list(res['id2'].values)\n",
    "r=list(res['r1'].values)+list(res['r2'].values)"
   ]
  },
  {
   "cell_type": "code",
   "execution_count": 9,
   "metadata": {
    "collapsed": false
   },
   "outputs": [],
   "source": [
    "# проставляем сумму\n",
    "def dsum():\n",
    "    for j in range(len(id)):\n",
    "        for i in range(len(id)):\n",
    "            if id[i]==ar[j].id:\n",
    "                ar[j].sum=r[i]\n",
    "\n",
    "# проставляем пару оппонентов\n",
    "def dop():\n",
    "    for j in range(n):\n",
    "        for i in range(len(res['id1'])):\n",
    "            if ar[j].id==res['id1'].values[i]:\n",
    "                ar[j].op.append(res['id2'].values[i]) \n",
    "        for i in range(len(res['id2'])):\n",
    "            if ar[j].id==res['id2'].values[i]:\n",
    "                ar[j].op.append(res['id1'].values[i]) \n",
    "                \n",
    "#смотрим результат\n",
    "def show(x):\n",
    "    if x==1:\n",
    "        for i in range(n):\n",
    "            print(ar[i].id)\n",
    "    elif x==2:\n",
    "        for i in range(n):\n",
    "            print(ar[i].op)\n",
    "    elif x==3:\n",
    "        for i in range(n):\n",
    "            print(ar[i].sum)"
   ]
  },
  {
   "cell_type": "code",
   "execution_count": 10,
   "metadata": {
    "collapsed": true
   },
   "outputs": [],
   "source": [
    "dsum()"
   ]
  },
  {
   "cell_type": "code",
   "execution_count": 11,
   "metadata": {
    "collapsed": false
   },
   "outputs": [],
   "source": [
    "dop()"
   ]
  },
  {
   "cell_type": "code",
   "execution_count": 12,
   "metadata": {
    "collapsed": true
   },
   "outputs": [],
   "source": [
    "filln(n)"
   ]
  },
  {
   "cell_type": "code",
   "execution_count": 14,
   "metadata": {
    "collapsed": false
   },
   "outputs": [
    {
     "name": "stdout",
     "output_type": "stream",
     "text": [
      "[0]\n",
      "[0, 7]\n",
      "[0, 8]\n",
      "[0, 9]\n",
      "[0, 10]\n",
      "[0, 11]\n",
      "[0, 12]\n",
      "[0, 1]\n",
      "[0, 2]\n",
      "[0, 3]\n",
      "[0, 4]\n",
      "[0, 5]\n"
     ]
    }
   ],
   "source": [
    "show(2)"
   ]
  },
  {
   "cell_type": "code",
   "execution_count": null,
   "metadata": {
    "collapsed": true
   },
   "outputs": [],
   "source": []
  }
 ],
 "metadata": {
  "kernelspec": {
   "display_name": "Python 3",
   "language": "python",
   "name": "python3"
  },
  "language_info": {
   "codemirror_mode": {
    "name": "ipython",
    "version": 3
   },
   "file_extension": ".py",
   "mimetype": "text/x-python",
   "name": "python",
   "nbconvert_exporter": "python",
   "pygments_lexer": "ipython3",
   "version": "3.6.0"
  }
 },
 "nbformat": 4,
 "nbformat_minor": 2
}
